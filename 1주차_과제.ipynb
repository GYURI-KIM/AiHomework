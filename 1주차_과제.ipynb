{
  "nbformat": 4,
  "nbformat_minor": 0,
  "metadata": {
    "colab": {
      "name": "1주차_과제.ipynb",
      "provenance": [],
      "collapsed_sections": [],
      "authorship_tag": "ABX9TyN8gyrDSMcndwVJ7Ya+XE7C",
      "include_colab_link": true
    },
    "kernelspec": {
      "name": "python3",
      "display_name": "Python 3"
    }
  },
  "cells": [
    {
      "cell_type": "markdown",
      "metadata": {
        "id": "view-in-github",
        "colab_type": "text"
      },
      "source": [
        "<a href=\"https://colab.research.google.com/github/GYURI-KIM/AiHomework/blob/master/1%EC%A3%BC%EC%B0%A8_%EA%B3%BC%EC%A0%9C.ipynb\" target=\"_parent\"><img src=\"https://colab.research.google.com/assets/colab-badge.svg\" alt=\"Open In Colab\"/></a>"
      ]
    },
    {
      "cell_type": "markdown",
      "metadata": {
        "id": "lp1kzlAEkGkn",
        "colab_type": "text"
      },
      "source": [
        "#1주차 과제\n",
        "- 인공지능 분야 기술 적용 사례"
      ]
    },
    {
      "cell_type": "markdown",
      "metadata": {
        "id": "D1zbF08XkkeP",
        "colab_type": "text"
      },
      "source": [
        "#언어\n",
        "- 양방향 통역기 서비스 'Touch Plus'.\n",
        "- 인공지능을 활용하여 100개 이상의 언어를 실시간으로 번역해주고, 대화 모드를 통해 두 가지 언어를 동시통역 가능.\n",
        "- 무선 충전, Wifi, 4G SIM 카드 슬롯 내장 등의 기능 지원.\n",
        "![alt text](https://img.appstory.co.kr/@files/monthly.appstory.co.kr/content/201905/d322e36dcc6454e9d051ffe5a22c6bb9.jpg)\n",
        "- Travis Touch Plus의 이미지\n"
      ]
    },
    {
      "cell_type": "markdown",
      "metadata": {
        "id": "73fmyia5nH9X",
        "colab_type": "text"
      },
      "source": [
        "#음성\n",
        "- 음성인식 기능을 활용한 AI 스피커(음성 기반 인공지능 비서)\n",
        "- 음성 입력 과정을 거쳐 사람의 음성을 컴퓨터가 이해할 수 있도록 텍스트화 함.\n",
        "- 자연어 처리 과정(사람의 언어를 컴퓨터가 분석하여 이해하고 처리)을 거치고 기계가 인식 결과를 내놓게 됨.\n",
        "- 대표적인 예로는 애플의 시리(Siri), 구글의 구글홈(Google Home) 등이 있음.\n",
        "![alt text](https://file.osen.co.kr/article/2017/04/28/201704281815773197_59031060cbcdc.jpg)\n",
        "- 인공지능 비서 시리(Siri)"
      ]
    },
    {
      "cell_type": "markdown",
      "metadata": {
        "id": "YrHjI7cqodzx",
        "colab_type": "text"
      },
      "source": [
        "#이미지\n",
        "\n",
        "- 그림을 그려주는 AI 화가, 'Deep Dream'\n",
        "- 기존에 학습한 회화 데이터베이스를 기반으로 '빈센트 반 고흐'의 작품을 모사하는 훈련을 받았음.\n",
        "- GANs(Generative Adversarial Networks) 기술 이용. 서로 경쟁하는 2개의 인공 신경망을 활용하여 진짜 같은 가짜를 만들어 냄.\n",
        "\n",
        "![Alt text](https://post-phinf.pstatic.net/MjAxODExMDJfMTQx/MDAxNTQxMTU1NTc2MzU2.pde35X2VW64ch_xAeGiS_QQibPSau76W4P6ah1jPm9Ig.iJ5NEq0HqkAnq7ue5hM-1idLHIVHajO_ROLrBdts2_kg.PNG/sw03.png?type=w1200)\n",
        "- 딥드림(Deep Dream)이 그린 그림"
      ]
    },
    {
      "cell_type": "markdown",
      "metadata": {
        "id": "Mp12C-Gepuy5",
        "colab_type": "text"
      },
      "source": [
        "#자율주행\n",
        "\n",
        "- 테슬라의 오토파일럿 기능.\n",
        "- 차선 내에서 차량을 자동으로 조향, 가속 및 제동.\n",
        "- 아직 완전한 자율 주행은 아니나, 향후에 완전 자율 주행을 기대해볼 수 있음.\n",
        "![Alt text](https://techrecipe.co.kr/wp-content/uploads/2019/04/190423_Tesla_901.jpg)\n",
        "- 테슬라의 오토파일럿 기능"
      ]
    }
  ]
}